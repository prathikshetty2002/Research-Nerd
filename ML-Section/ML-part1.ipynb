{
  "nbformat": 4,
  "nbformat_minor": 0,
  "metadata": {
    "colab": {
      "name": "4_geeks.ipynb",
      "provenance": []
    },
    "kernelspec": {
      "name": "python3",
      "display_name": "Python 3"
    },
    "language_info": {
      "name": "python"
    },
    "accelerator": "GPU"
  },
  "cells": [
    {
      "cell_type": "code",
      "execution_count": null,
      "metadata": {
        "id": "zGF9ZxpG93K1"
      },
      "outputs": [],
      "source": [
        "import pandas as pd"
      ]
    },
    {
      "cell_type": "code",
      "source": [
        "!nvidia-smi"
      ],
      "metadata": {
        "colab": {
          "base_uri": "https://localhost:8080/"
        },
        "id": "OvQwbIeP9VjF",
        "outputId": "89c95211-7c3e-4bf0-c6e8-1890b2826901"
      },
      "execution_count": null,
      "outputs": [
        {
          "output_type": "stream",
          "name": "stdout",
          "text": [
            "Fri Apr  8 20:18:29 2022       \n",
            "+-----------------------------------------------------------------------------+\n",
            "| NVIDIA-SMI 460.32.03    Driver Version: 460.32.03    CUDA Version: 11.2     |\n",
            "|-------------------------------+----------------------+----------------------+\n",
            "| GPU  Name        Persistence-M| Bus-Id        Disp.A | Volatile Uncorr. ECC |\n",
            "| Fan  Temp  Perf  Pwr:Usage/Cap|         Memory-Usage | GPU-Util  Compute M. |\n",
            "|                               |                      |               MIG M. |\n",
            "|===============================+======================+======================|\n",
            "|   0  Tesla T4            Off  | 00000000:00:04.0 Off |                    0 |\n",
            "| N/A   48C    P8     9W /  70W |      0MiB / 15109MiB |      0%      Default |\n",
            "|                               |                      |                  N/A |\n",
            "+-------------------------------+----------------------+----------------------+\n",
            "                                                                               \n",
            "+-----------------------------------------------------------------------------+\n",
            "| Processes:                                                                  |\n",
            "|  GPU   GI   CI        PID   Type   Process name                  GPU Memory |\n",
            "|        ID   ID                                                   Usage      |\n",
            "|=============================================================================|\n",
            "|  No running processes found                                                 |\n",
            "+-----------------------------------------------------------------------------+\n"
          ]
        }
      ]
    },
    {
      "cell_type": "code",
      "source": [
        "!pip install pickle\n",
        "import pickle as pkl\n",
        "df= pkl.load(open('df.pkl','rb'))\n",
        "new_df= pd.DataFrame(df)"
      ],
      "metadata": {
        "id": "m0PDId7NMc9z",
        "colab": {
          "base_uri": "https://localhost:8080/",
          "height": 252
        },
        "outputId": "36915024-3143-4eba-cffd-3b874f3cef98"
      },
      "execution_count": null,
      "outputs": [
        {
          "output_type": "stream",
          "name": "stdout",
          "text": [
            "\u001b[31mERROR: Could not find a version that satisfies the requirement pickle (from versions: none)\u001b[0m\n",
            "\u001b[31mERROR: No matching distribution found for pickle\u001b[0m\n"
          ]
        },
        {
          "output_type": "error",
          "ename": "FileNotFoundError",
          "evalue": "ignored",
          "traceback": [
            "\u001b[0;31m---------------------------------------------------------------------------\u001b[0m",
            "\u001b[0;31mFileNotFoundError\u001b[0m                         Traceback (most recent call last)",
            "\u001b[0;32m<ipython-input-4-623a82bad47c>\u001b[0m in \u001b[0;36m<module>\u001b[0;34m()\u001b[0m\n\u001b[1;32m      1\u001b[0m \u001b[0mget_ipython\u001b[0m\u001b[0;34m(\u001b[0m\u001b[0;34m)\u001b[0m\u001b[0;34m.\u001b[0m\u001b[0msystem\u001b[0m\u001b[0;34m(\u001b[0m\u001b[0;34m'pip install pickle'\u001b[0m\u001b[0;34m)\u001b[0m\u001b[0;34m\u001b[0m\u001b[0;34m\u001b[0m\u001b[0m\n\u001b[1;32m      2\u001b[0m \u001b[0;32mimport\u001b[0m \u001b[0mpickle\u001b[0m \u001b[0;32mas\u001b[0m \u001b[0mpkl\u001b[0m\u001b[0;34m\u001b[0m\u001b[0;34m\u001b[0m\u001b[0m\n\u001b[0;32m----> 3\u001b[0;31m \u001b[0mdf\u001b[0m\u001b[0;34m=\u001b[0m \u001b[0mpkl\u001b[0m\u001b[0;34m.\u001b[0m\u001b[0mload\u001b[0m\u001b[0;34m(\u001b[0m\u001b[0mopen\u001b[0m\u001b[0;34m(\u001b[0m\u001b[0;34m'df.pkl'\u001b[0m\u001b[0;34m,\u001b[0m\u001b[0;34m'rb'\u001b[0m\u001b[0;34m)\u001b[0m\u001b[0;34m)\u001b[0m\u001b[0;34m\u001b[0m\u001b[0;34m\u001b[0m\u001b[0m\n\u001b[0m\u001b[1;32m      4\u001b[0m \u001b[0mnew_df\u001b[0m\u001b[0;34m=\u001b[0m \u001b[0mpd\u001b[0m\u001b[0;34m.\u001b[0m\u001b[0mDataFrame\u001b[0m\u001b[0;34m(\u001b[0m\u001b[0mdf\u001b[0m\u001b[0;34m)\u001b[0m\u001b[0;34m\u001b[0m\u001b[0;34m\u001b[0m\u001b[0m\n",
            "\u001b[0;31mFileNotFoundError\u001b[0m: [Errno 2] No such file or directory: 'df.pkl'"
          ]
        }
      ]
    },
    {
      "cell_type": "code",
      "source": [
        ""
      ],
      "metadata": {
        "id": "Im5E8mToMmTi"
      },
      "execution_count": null,
      "outputs": []
    },
    {
      "cell_type": "code",
      "source": [
        ""
      ],
      "metadata": {
        "id": "gtHakSzhM-gL"
      },
      "execution_count": null,
      "outputs": []
    },
    {
      "cell_type": "code",
      "source": [
        ""
      ],
      "metadata": {
        "id": "s7z99WdxQHvN"
      },
      "execution_count": null,
      "outputs": []
    },
    {
      "cell_type": "code",
      "source": [
        "new_df.columns"
      ],
      "metadata": {
        "id": "6N0Vyn6IQJJb"
      },
      "execution_count": null,
      "outputs": []
    },
    {
      "cell_type": "code",
      "source": [
        "# submitter,\tauthors, title, comments, categories, abstract"
      ],
      "metadata": {
        "id": "qlPO26EdQXOz"
      },
      "execution_count": null,
      "outputs": []
    },
    {
      "cell_type": "code",
      "source": [
        "f_df = new_df[['id','submitter','authors','title','categories','abstract','update_date']]"
      ],
      "metadata": {
        "id": "dwICHub4Q_V7"
      },
      "execution_count": null,
      "outputs": []
    },
    {
      "cell_type": "code",
      "source": [
        "f_df=f_df.head(20000)"
      ],
      "metadata": {
        "id": "lUhtIFO2hPop"
      },
      "execution_count": null,
      "outputs": []
    },
    {
      "cell_type": "code",
      "source": [
        "f_df.shape"
      ],
      "metadata": {
        "id": "a3zE8gZkiFGC"
      },
      "execution_count": null,
      "outputs": []
    },
    {
      "cell_type": "code",
      "source": [
        "f_df.drop(['submitter'],axis=1,inplace=True)"
      ],
      "metadata": {
        "id": "GgQrHUyeSSFq"
      },
      "execution_count": null,
      "outputs": []
    },
    {
      "cell_type": "code",
      "source": [
        ""
      ],
      "metadata": {
        "id": "8xa1dL6CSSPg"
      },
      "execution_count": null,
      "outputs": []
    },
    {
      "cell_type": "code",
      "source": [
        "idx = [i for i in  range(0,50000)]"
      ],
      "metadata": {
        "id": "3mUs7Pbst9FD"
      },
      "execution_count": null,
      "outputs": []
    },
    {
      "cell_type": "code",
      "source": [
        "idx = pd.DataFrame(idx)"
      ],
      "metadata": {
        "id": "7CBd82fKuDKV"
      },
      "execution_count": null,
      "outputs": []
    },
    {
      "cell_type": "code",
      "source": [
        ""
      ],
      "metadata": {
        "id": "KhpWgeySuIhV"
      },
      "execution_count": null,
      "outputs": []
    },
    {
      "cell_type": "code",
      "source": [
        "f_df.head()"
      ],
      "metadata": {
        "id": "Gy35vlFLvJj8"
      },
      "execution_count": null,
      "outputs": []
    },
    {
      "cell_type": "code",
      "source": [
        ""
      ],
      "metadata": {
        "id": "DNuILmLgvwZ1"
      },
      "execution_count": null,
      "outputs": []
    },
    {
      "cell_type": "code",
      "source": [
        "import string\n",
        "def helper(x):\n",
        "  temp = str.maketrans('','',string.punctuation)\n",
        "  return x.translate(temp)"
      ],
      "metadata": {
        "id": "Z9SyEmL-xLVW"
      },
      "execution_count": null,
      "outputs": []
    },
    {
      "cell_type": "code",
      "source": [
        ""
      ],
      "metadata": {
        "id": "eHCFrLxVyInO"
      },
      "execution_count": null,
      "outputs": []
    },
    {
      "cell_type": "code",
      "source": [
        ""
      ],
      "metadata": {
        "id": "UjzvDw34ylrK"
      },
      "execution_count": null,
      "outputs": []
    },
    {
      "cell_type": "code",
      "source": [
        "f_df['authors'].values"
      ],
      "metadata": {
        "id": "JjWsIYEcy6bG"
      },
      "execution_count": null,
      "outputs": []
    },
    {
      "cell_type": "code",
      "source": [
        "f_df['authors'] = f_df['authors'].apply(helper)"
      ],
      "metadata": {
        "id": "4smJuGLjzAYm"
      },
      "execution_count": null,
      "outputs": []
    },
    {
      "cell_type": "code",
      "source": [
        "f_df.head()"
      ],
      "metadata": {
        "id": "9ZJwA6U9zEm5"
      },
      "execution_count": null,
      "outputs": []
    },
    {
      "cell_type": "code",
      "source": [
        "f_df['title'] = f_df['title'].apply(helper)"
      ],
      "metadata": {
        "id": "PQSCMOiqzctr"
      },
      "execution_count": null,
      "outputs": []
    },
    {
      "cell_type": "code",
      "source": [
        "f_df.head(10)"
      ],
      "metadata": {
        "id": "A3uAQsttzrWi"
      },
      "execution_count": null,
      "outputs": []
    },
    {
      "cell_type": "code",
      "source": [
        "st = 'math.CO cs.CG'\n",
        "st.split('.')"
      ],
      "metadata": {
        "id": "wa8vyB5jzsuz"
      },
      "execution_count": null,
      "outputs": []
    },
    {
      "cell_type": "code",
      "source": [
        "f_df['categories'] = f_df['categories'].apply(lambda x:x.split())"
      ],
      "metadata": {
        "id": "F5z35wQH0PWW"
      },
      "execution_count": null,
      "outputs": []
    },
    {
      "cell_type": "code",
      "source": [
        "f_df.head()"
      ],
      "metadata": {
        "id": "qX4xB25T03Zf"
      },
      "execution_count": null,
      "outputs": []
    },
    {
      "cell_type": "code",
      "source": [
        "f_df['abstract'] = f_df['abstract'].apply(helper)"
      ],
      "metadata": {
        "id": "RelVCdR01JOv"
      },
      "execution_count": null,
      "outputs": []
    },
    {
      "cell_type": "code",
      "source": [
        ""
      ],
      "metadata": {
        "id": "o837S9M21OvP"
      },
      "execution_count": null,
      "outputs": []
    },
    {
      "cell_type": "code",
      "source": [
        ""
      ],
      "metadata": {
        "id": "T1bjId6L1-e3"
      },
      "execution_count": null,
      "outputs": []
    },
    {
      "cell_type": "code",
      "source": [
        "f_df.iloc[30:40]"
      ],
      "metadata": {
        "id": "ggMYLJB62Guf"
      },
      "execution_count": null,
      "outputs": []
    },
    {
      "cell_type": "code",
      "source": [
        "import spacy\n",
        "#loading the english language small model of spacy\n",
        "en = spacy.load('en_core_web_sm')\n",
        "stopwords = en.Defaults.stop_words\n",
        "\n",
        "\n",
        "\n",
        "def rem_stopwords(sent):\n",
        "    cleaned = []\n",
        "    for word in sent.split():\n",
        "        if word.lower() not in stopwords:\n",
        "          cleaned.append(word)\n",
        "    return \" \".join(cleaned)\n"
      ],
      "metadata": {
        "id": "CBPvJULp2w63"
      },
      "execution_count": null,
      "outputs": []
    },
    {
      "cell_type": "code",
      "source": [
        "f_df['abstract'] =  f_df['abstract'].apply(rem_stopwords)"
      ],
      "metadata": {
        "id": "NYpNl4Yz6xBe"
      },
      "execution_count": null,
      "outputs": []
    },
    {
      "cell_type": "code",
      "source": [
        "\n",
        "f_df['date']= f_df['update_date']\n",
        "f_df.drop(columns=['update_date'],inplace=True)\n",
        "f_df.head()\n"
      ],
      "metadata": {
        "id": "zd21nbZI7OF4"
      },
      "execution_count": null,
      "outputs": []
    },
    {
      "cell_type": "code",
      "source": [
        "f_df['authors'] = f_df['authors'].apply(lambda x:x.split('and'))"
      ],
      "metadata": {
        "id": "ewInj9BSB7ra"
      },
      "execution_count": null,
      "outputs": []
    },
    {
      "cell_type": "code",
      "source": [
        ""
      ],
      "metadata": {
        "id": "qROz7YCuDVTD"
      },
      "execution_count": null,
      "outputs": []
    },
    {
      "cell_type": "code",
      "source": [
        "f_df.head()"
      ],
      "metadata": {
        "id": "c5u8nPGKDeNi"
      },
      "execution_count": null,
      "outputs": []
    },
    {
      "cell_type": "code",
      "source": [
        "mylist = ['Ileana Streinu' , 'Louis Theran']\n",
        "[elem for elem in mylist if elem.strip()]"
      ],
      "metadata": {
        "id": "tupk9X-gD6EL"
      },
      "execution_count": null,
      "outputs": []
    },
    {
      "cell_type": "code",
      "source": [
        "def rem_space(lis):\n",
        "  final_lis = []\n",
        "  for i in lis:\n",
        "    i = i.replace(\" \",\"\")\n",
        "    final_lis.append(i)\n",
        "  return final_lis"
      ],
      "metadata": {
        "id": "2FFcyY9jE5f0"
      },
      "execution_count": null,
      "outputs": []
    },
    {
      "cell_type": "code",
      "source": [
        " f_df['authors'] = f_df['authors'].apply(rem_space)"
      ],
      "metadata": {
        "id": "OTbA7WvmHk7N"
      },
      "execution_count": null,
      "outputs": []
    },
    {
      "cell_type": "code",
      "source": [
        "f_df.head()"
      ],
      "metadata": {
        "id": "ZyaRU18XIZ22"
      },
      "execution_count": null,
      "outputs": []
    },
    {
      "cell_type": "code",
      "source": [
        "def tolower(x):\n",
        "  lis = []\n",
        "  for i in x:\n",
        "    lis.append(i.lower())\n",
        "  return lis"
      ],
      "metadata": {
        "id": "Vjdep_nuIsuz"
      },
      "execution_count": null,
      "outputs": []
    },
    {
      "cell_type": "code",
      "source": [
        ""
      ],
      "metadata": {
        "id": "G_As_OosM5MO"
      },
      "execution_count": null,
      "outputs": []
    },
    {
      "cell_type": "code",
      "source": [
        "f_df['authors'] = f_df['authors'].apply(tolower)"
      ],
      "metadata": {
        "id": "OOfRUYNvI9jU"
      },
      "execution_count": null,
      "outputs": []
    },
    {
      "cell_type": "code",
      "source": [
        "f_df['abstract'] = f_df['abstract'].apply(lambda x:x.split())"
      ],
      "metadata": {
        "id": "xSRccUwPMpU9"
      },
      "execution_count": null,
      "outputs": []
    },
    {
      "cell_type": "code",
      "source": [
        ""
      ],
      "metadata": {
        "id": "bDokcZHhNSHe"
      },
      "execution_count": null,
      "outputs": []
    },
    {
      "cell_type": "code",
      "source": [
        "f_df['tags'] = f_df['authors'] + f_df['categories'] + f_df['abstract']"
      ],
      "metadata": {
        "id": "cmL5a4SpNc9-"
      },
      "execution_count": null,
      "outputs": []
    },
    {
      "cell_type": "code",
      "source": [
        "f_df.drop(columns=['date'],inplace=True)\n",
        "f_df.head()"
      ],
      "metadata": {
        "id": "K4BDYiSxP9Vv"
      },
      "execution_count": null,
      "outputs": []
    },
    {
      "cell_type": "code",
      "source": [
        "new_df = f_df[['id','title','tags']]"
      ],
      "metadata": {
        "id": "Z6V2iHGGQBjG"
      },
      "execution_count": null,
      "outputs": []
    },
    {
      "cell_type": "code",
      "source": [
        "new_df['tags'] = new_df['tags'].apply(lambda x:\" \".join(x)) "
      ],
      "metadata": {
        "id": "f52_AEa7QgCn"
      },
      "execution_count": null,
      "outputs": []
    },
    {
      "cell_type": "code",
      "source": [
        "from nltk.stem.porter import PorterStemmer\n",
        "ps = PorterStemmer()\n",
        "\n",
        "def stem(text):\n",
        "  y = []\n",
        "  for word in text.split():\n",
        "    y.append(ps.stem(word))\n",
        "  return \" \".join(y)\n"
      ],
      "metadata": {
        "id": "hRYFMgbrTmQI"
      },
      "execution_count": null,
      "outputs": []
    },
    {
      "cell_type": "code",
      "source": [
        "new_df['tags'] = new_df['tags'].apply(stem)"
      ],
      "metadata": {
        "id": "Uv05SdLgWGex"
      },
      "execution_count": null,
      "outputs": []
    },
    {
      "cell_type": "code",
      "source": [
        "# new_df.head()\n",
        "new_df.shape"
      ],
      "metadata": {
        "id": "OnQ2WoGVWTlA"
      },
      "execution_count": null,
      "outputs": []
    },
    {
      "cell_type": "code",
      "source": [
        "new_df.shape[0]"
      ],
      "metadata": {
        "id": "QvKayGQaWo3R"
      },
      "execution_count": null,
      "outputs": []
    },
    {
      "cell_type": "code",
      "source": [
        "idx = [i for i in range(new_df.shape[0])]"
      ],
      "metadata": {
        "id": "bufzZakzYEO5"
      },
      "execution_count": null,
      "outputs": []
    },
    {
      "cell_type": "code",
      "source": [
        "new_df.reset_index(inplace=True)"
      ],
      "metadata": {
        "id": "erxIyIorYNbR"
      },
      "execution_count": null,
      "outputs": []
    },
    {
      "cell_type": "code",
      "source": [
        "\n",
        "\n",
        "x_df = pd.DataFrame(new_df,set(idx))\n"
      ],
      "metadata": {
        "id": "Ho52gkGJYOqx"
      },
      "execution_count": null,
      "outputs": []
    },
    {
      "cell_type": "code",
      "source": [
        "x_df.drop('index',axis=1,inplace=True)"
      ],
      "metadata": {
        "id": "5mlopdzSYwbR"
      },
      "execution_count": null,
      "outputs": []
    },
    {
      "cell_type": "code",
      "source": [
        "x_df.shape"
      ],
      "metadata": {
        "id": "EUV0efv6Z2Wr"
      },
      "execution_count": null,
      "outputs": []
    },
    {
      "cell_type": "code",
      "source": [
        "def helper2(x):\n",
        "    i = x.replace('\\n','')\n",
        "    i = i.replace('\\r','')\n",
        "    return i"
      ],
      "metadata": {
        "id": "JjQDOoqFiRdV"
      },
      "execution_count": null,
      "outputs": []
    },
    {
      "cell_type": "code",
      "source": [
        "x_df['title'] = x_df['title'].apply(helper2)"
      ],
      "metadata": {
        "id": "APG-O80WoCYB"
      },
      "execution_count": null,
      "outputs": []
    },
    {
      "cell_type": "code",
      "source": [
        "x_df['title'][0]"
      ],
      "metadata": {
        "id": "crWQTGENoMZY"
      },
      "execution_count": null,
      "outputs": []
    },
    {
      "cell_type": "code",
      "source": [
        "from sklearn.feature_extraction.text import CountVectorizer\n",
        "cv = CountVectorizer(max_features=5000,stop_words='english')"
      ],
      "metadata": {
        "id": "MU1eOeZ0iVcU"
      },
      "execution_count": null,
      "outputs": []
    },
    {
      "cell_type": "code",
      "source": [
        "import numpy as np\n",
        "vectors = cv.fit_transform(x_df['tags']).toarray()"
      ],
      "metadata": {
        "id": "cuBG4n0xjHrV"
      },
      "execution_count": null,
      "outputs": []
    },
    {
      "cell_type": "code",
      "source": [
        "vectors.shape"
      ],
      "metadata": {
        "id": "0I-qndPbjkuk"
      },
      "execution_count": null,
      "outputs": []
    },
    {
      "cell_type": "code",
      "source": [
        "len(cv.get_feature_names())"
      ],
      "metadata": {
        "id": "qi8uU55jkJAU"
      },
      "execution_count": null,
      "outputs": []
    },
    {
      "cell_type": "code",
      "source": [
        "from sklearn.metrics.pairwise import cosine_similarity\n",
        "similarity = cosine_similarity(vectors)"
      ],
      "metadata": {
        "id": "v6kTsfYtkT39"
      },
      "execution_count": null,
      "outputs": []
    },
    {
      "cell_type": "code",
      "source": [
        "similarity[1]"
      ],
      "metadata": {
        "id": "LVTW6AmQlB_N"
      },
      "execution_count": null,
      "outputs": []
    },
    {
      "cell_type": "code",
      "source": [
        "x_df['title']  =  x_df['title'].apply(helper)"
      ],
      "metadata": {
        "id": "Q7XNYQMqlT4V"
      },
      "execution_count": null,
      "outputs": []
    },
    {
      "cell_type": "code",
      "source": [
        "x_df['title'][0]"
      ],
      "metadata": {
        "id": "FlozAkmsl4D1"
      },
      "execution_count": null,
      "outputs": []
    },
    {
      "cell_type": "code",
      "source": [
        "x_df[x_df['title'] =='Calculation of prompt diphoton production cross sections at Tevatron and  LHC energies' ].index"
      ],
      "metadata": {
        "id": "iaXk-6rLm7DF"
      },
      "execution_count": null,
      "outputs": []
    },
    {
      "cell_type": "code",
      "source": [
        "def recommend(paper):\n",
        "    lis = []\n",
        "    paper_idx = x_df[x_df['title'] == paper].index[0]\n",
        "    distance = similarity[paper_idx]\n",
        "    paper_list = sorted(list(enumerate(distance)),reverse=True,key=lambda x:x[1])[1:10]\n",
        "    for i in paper_list:\n",
        "        id = x_df.iloc[i[0]].title\n",
        "        lis.append(id)\n",
        "    return lis"
      ],
      "metadata": {
        "id": "IrgHkwm6qG0H"
      },
      "execution_count": null,
      "outputs": []
    },
    {
      "cell_type": "code",
      "source": [
        "# df[df['up'] == 0]\n",
        "recommend('Mapping radii of metric spaces')\n"
      ],
      "metadata": {
        "id": "lAtvXuA7rKKj"
      },
      "execution_count": null,
      "outputs": []
    },
    {
      "cell_type": "code",
      "source": [
        "f_df.categories.value_counts()"
      ],
      "metadata": {
        "id": "WLrL1hsm-vXC"
      },
      "execution_count": null,
      "outputs": []
    },
    {
      "cell_type": "code",
      "source": [
        ""
      ],
      "metadata": {
        "id": "zjY-sRiN0mWi"
      },
      "execution_count": null,
      "outputs": []
    },
    {
      "cell_type": "code",
      "source": [
        "# https://arxiv.org/pdf/{id}.pdf"
      ],
      "metadata": {
        "id": "X4Pnm32GrZDP"
      },
      "execution_count": null,
      "outputs": []
    },
    {
      "cell_type": "code",
      "source": [
        "import pickle\n",
        "pickle.dump(similarity,open('similarity1.pkl','wb'))"
      ],
      "metadata": {
        "id": "Xcwct9VftQvo"
      },
      "execution_count": null,
      "outputs": []
    },
    {
      "cell_type": "code",
      "source": [
        "pickle.dump(x_df.to_dict(),open('df1.pkl','wb'))"
      ],
      "metadata": {
        "id": "sTJA10Cu0qkY"
      },
      "execution_count": null,
      "outputs": []
    },
    {
      "cell_type": "code",
      "source": [
        ""
      ],
      "metadata": {
        "id": "qvRFHnw901G6"
      },
      "execution_count": null,
      "outputs": []
    }
  ]
}